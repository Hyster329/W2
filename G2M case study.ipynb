{
 "cells": [
  {
   "cell_type": "code",
   "execution_count": null,
   "metadata": {},
   "outputs": [],
   "source": [
    "#load the data set"
   ]
  },
  {
   "cell_type": "code",
   "execution_count": null,
   "metadata": {},
   "outputs": [],
   "source": [
    "cab<-read.csv(\"Cab_Data.csv\")\n",
    "cus_id<-read.csv(\"Customer_ID.csv\")\n",
    "city<-read.csv(\"City.csv\")\n",
    "transaction<-read.csv(\"Transaction_ID.csv\")"
   ]
  },
  {
   "cell_type": "code",
   "execution_count": null,
   "metadata": {},
   "outputs": [],
   "source": [
    "#check how many people in each gender\n",
    "gender<-cus_id$Gender\n",
    "table(gender)"
   ]
  },
  {
   "cell_type": "markdown",
   "metadata": {},
   "source": [
    "There are 22609 females and 26562 males."
   ]
  },
  {
   "cell_type": "code",
   "execution_count": null,
   "metadata": {},
   "outputs": [],
   "source": [
    "#Calculate the profit for each order\n",
    "cab$profit<-cab$Price.Charged-cab$Cost.of.Trip\n",
    "#merge two tables together and delete the missing value\n",
    "cab <- merge(cab, transaction, by = \"Transaction.ID\", all = FALSE)"
   ]
  },
  {
   "cell_type": "markdown",
   "metadata": {},
   "source": [
    "There are some ansacions that haven't been colleced in \"cab\" file, I choose to ignore them and delete them."
   ]
  },
  {
   "cell_type": "markdown",
   "metadata": {},
   "source": [
    "Reason: In \"transaction\" file, only customer id and payment method are collected, while no specific amount of KM and costs are collected in \"cab\" file"
   ]
  },
  {
   "cell_type": "code",
   "execution_count": null,
   "metadata": {},
   "outputs": [],
   "source": [
    "library(dplyr)\n",
    "customer_info <- merge(customer_info, cus_id, by=\"Customer.ID\")\n",
    "#set income_status based on their income and separate them into 3 groups\n",
    "customer_info$income_status <- cut(customer_info$Income..USD.Month., \n",
    "                        breaks = c(-Inf, 3000, 15000, Inf), \n",
    "                        labels = c(1, 2, 3),\n",
    "                        include.lowest = TRUE)\n",
    "#Calculate the total profit and mean profit based on cities\n",
    "company_city_av<-cab %>%\n",
    "  group_by(Company,City) %>%\n",
    "  summarize(total_profit = sum(profit),\n",
    "            average_profit = mean(profit))\n",
    "\n",
    "#Calculate the total KM based on cities\n",
    "company_city_road<-cab %>%\n",
    "  group_by(Company,City) %>%\n",
    "  summarize(total_road = sum(KM.Travelled),\n",
    "            average_road = mean(KM.Travelled))\n",
    "company_city <- company_city_av\n",
    "company_city$total_road <- company_city_road$total_road\n",
    "\n",
    "#Calculate how much profit they can get per KM\n",
    "company_city$profit_per_KM <- company_city$total_profit/company_city$total_road\n",
    "cus_id$income_status <- cut(cus_id$Income..USD.Month., \n",
    "                                   breaks = c(-Inf, 3000, 15000, Inf), \n",
    "                                   labels = c(1, 2, 3),\n",
    "                                   include.lowest = TRUE)\n",
    "  \n",
    "cab <- merge(cab,cus_id,by=\"Customer.ID\")\n",
    "#calculate the total income in each group of income status\n",
    "company_incomestatus <- cab %>%\n",
    "  group_by(Company, income_status) %>%\n",
    "  summarize(total_profit_income=sum(profit))\n",
    "\n",
    "#Calculate how many customers in each income status in each company\n",
    "company_income_percentage <- customer_info %>%\n",
    "  group_by(Company,income_status) %>%\n",
    "  summarise(No.income = n())\n",
    "\n",
    "#Calculate how many customers in each gender in each company\n",
    "company_gender_percentage <- customer_info %>%\n",
    "  group_by(Company,Gender) %>%\n",
    "  summarise(No.Gender = n())\n",
    "\n",
    "#Calculate the percenage of each gender group \n",
    "company_gender_percentage <- company_gender_percentage %>%\n",
    "  group_by(Company) %>%\n",
    "  mutate(total = sum(No.Gender)) %>%\n",
    "  group_by(Company, Gender) %>%\n",
    "  summarize(percent = sum(No.Gender) / first(total) * 100)"
   ]
  },
  {
   "cell_type": "code",
   "execution_count": null,
   "metadata": {},
   "outputs": [],
   "source": [
    "library(ggplot2)\n",
    "ggplot(company_gender_percentage, aes(x = Company, y = percent, fill = Gender)) +\n",
    "  geom_bar(stat = \"identity\", position = \"fill\") +\n",
    "  geom_text(aes(label = scales::percent(percent/100), group = Gender),\n",
    "            position = position_fill(vjust = 0.5), \n",
    "            color = \"white\", size = 3) +\n",
    "  scale_fill_manual(values = c(\"orange\", \"darkblue\")) + \n",
    "  labs(title = \"Percentage of Gender\", x = \"Company\", y = \"Percentage of Gender\")\n"
   ]
  },
  {
   "cell_type": "code",
   "execution_count": null,
   "metadata": {},
   "outputs": [],
   "source": [
    "#Calculate the percentage of each income status\n",
    "company_percentage <- company_percentage %>%\n",
    "  group_by(Company) %>%\n",
    "  mutate(total = sum(No.income)) %>%\n",
    "  group_by(Company, income_status) %>%\n",
    "  summarize(percent = sum(No.income) / first(total) * 100)\n",
    "\n",
    "#Calculate how many profits he can get in each income status\n",
    "compnay_incomestatus<- company_incomestatus %>%\n",
    "  summarise(total = sum(total_profit_income)) %>%\n",
    "  ungroup()\n",
    "\n",
    "library(ggplot2)\n",
    "company_incomestatus_large <- company_incomestatus %>%\n",
    "  group_by(Company) %>%\n",
    "  mutate(total_profit_income_max = max(total_profit_income)) %>%\n",
    "  filter(total_profit_income >= 0.1 * total_profit_income_max) %>%\n",
    "  ungroup()\n",
    "\n",
    "income_status_colors <- c(\"1\" = \"pink\", \"2\" = \"lightgreen\", \"3\" = \"lightblue\")\n",
    "income_status_labels <- c(\"1\" = \"<$3000\", \"2\" = \"$3000~$15000\", \"3\" = \">$15000\")\n",
    "ggplot(company_incomestatus, aes(x = Company, y = total_profit_income, fill = income_status)) +\n",
    "  geom_bar(stat = \"identity\", position = \"stack\") +\n",
    "  scale_fill_manual(values = income_status_colors, labels = income_status_labels) +\n",
    "  labs(title = \"Total Income\",\n",
    "       x = \"Company\",\n",
    "       y = \"Total Income\",\n",
    "       fill = \"Income Status\") +\n",
    "\n",
    "  geom_text(data = company_incomestatus_large, aes(label = total_profit_income), \n",
    "              position = position_stack(vjust = 0.5), \n",
    "              size = 3)\n",
    "\n",
    "#Calculate the percentage of each income status\n",
    "company_income_percentage <- company_income_percentage %>%\n",
    "  group_by(Company) %>%\n",
    "  mutate(total = sum(No.income)) %>%\n",
    "  group_by(Company, income_status) %>%\n",
    "  summarize(percent = sum(No.income) / first(total) * 100)\n",
    "\n",
    "ggplot(company_income_percentage, aes(x = Company, y = percent, fill = income_status)) +\n",
    "  geom_bar(stat = \"identity\", position = \"fill\") +\n",
    "  geom_text(aes(label = scales::percent(percent/100), group = income_status),\n",
    "            position = position_fill(vjust = 0.5), \n",
    "            color = \"white\", size = 3) +\n",
    "  scale_fill_manual(values = c(\"orange\", \"darkblue\",\"darkgreen\"),, labels = income_status_labels) + \n",
    "  labs(title = \"Percentage of Income Status\", x = \"Company\", y = \"Percentage of Income Status\")\n"
   ]
  },
  {
   "cell_type": "code",
   "execution_count": null,
   "metadata": {},
   "outputs": [],
   "source": [
    "#Calculate the total profit of each gender\n",
    "company_gender <- cab %>%\n",
    "  group_by(Company, Gender) %>%\n",
    "  summarize(total_profit_income=sum(profit))\n",
    "\n",
    "gender_colors <- c(\"Female\" = \"pink\", \"Male\" = \"lightblue\")\n",
    "ggplot(company_gender, aes(x = Company, y = total_profit_income, fill = Gender)) +\n",
    "  geom_bar(stat = \"identity\", position = \"stack\") +\n",
    "  scale_fill_manual(values = gender_colors) +\n",
    "  labs(title = \"Total Income by Gender\",\n",
    "       x = \"Company\",\n",
    "       y = \"Total Income\",\n",
    "       fill = \"Gender\") +\n",
    "  geom_text(aes(label = total_profit_income), \n",
    "            position = position_stack(vjust = 0.5), \n",
    "            size = 3)"
   ]
  },
  {
   "cell_type": "code",
   "execution_count": null,
   "metadata": {},
   "outputs": [],
   "source": [
    "#Divide the customers into 4 groups based on age\n",
    "customer_info$agegroup <- cut(customer_info$Age, \n",
    "                    breaks = c(18, 25, 35, 60, Inf), \n",
    "                    labels = c(1, 2, 3, 4),\n",
    "                            include.lowest = TRUE)\n",
    "#Calculate the total profit in each group of ages\n",
    "company_age <- cab %>%\n",
    "  group_by(Company, agegroup) %>%\n",
    "  summarize(total_profit_income=sum(profit))\n",
    "\n",
    "cab$agegroup <- cut(cab$Age, \n",
    "                    breaks = c(18, 25, 35, 60, Inf), \n",
    "                    labels = c(1, 2, 3, 4),\n",
    "                    include.lowest = TRUE)\n",
    "\n",
    "#Calculate the number of cusomers in each group of ages\n",
    "company_agegroup_percentage <- customer_info %>%\n",
    "  group_by(Company,agegroup) %>%\n",
    "  summarise(No.age = n())\n",
    "\n",
    "#calculate the percentage of each group of ages\n",
    "company_agegroup_percentage <- company_agegroup_percentage %>%\n",
    "  group_by(Company) %>%\n",
    "  mutate(total = sum(No.age)) %>%\n",
    "  group_by(Company, agegroup) %>%\n",
    "  summarize(percent = sum(No.age) / first(total) * 100)"
   ]
  },
  {
   "cell_type": "code",
   "execution_count": null,
   "metadata": {},
   "outputs": [],
   "source": [
    "agegroup_colors <- c(\"1\" = \"pink\", \"2\" = \"lightgreen\", \"3\" = \"lightblue\", \"4\" = \"yellow\")\n",
    "agegroup_labels <- c(\"1\" = \"18-25\", \"2\" = \"26-35\", \"3\" = \"36-60\", \"4\" = \"60+\")\n",
    "ggplot(company_agegroup_percentage, aes(x = Company, y = percent, fill = agegroup)) +\n",
    "  geom_bar(stat = \"identity\", position = \"fill\") +\n",
    "  geom_text(aes(label = scales::percent(percent/100), group = agegroup),\n",
    "            position = position_fill(vjust = 0.5), \n",
    "            color = \"black\", size = 3) +\n",
    "  scale_fill_manual(values = agegroup_colors, labels = agegroup_labels) + \n",
    "  labs(title = \"Percentage of agegroup\", x = \"Company\", y = \"Percentage of agegroup\")\n",
    "\n",
    "company_age_large <- company_age %>%\n",
    "  group_by(Company) %>%\n",
    "  mutate(total_profit_income_max = max(total_profit_income)) %>%\n",
    "  filter(total_profit_income >= 0.1 * total_profit_income_max) %>%\n",
    "  ungroup()\n",
    "\n",
    "ggplot(company_age, aes(x = Company, y = total_profit_income, fill = agegroup)) +\n",
    "  geom_bar(stat = \"identity\", position = \"stack\") +\n",
    "  scale_fill_manual(values = agegroup_colors, labels = agegroup_labels) +\n",
    "  labs(title = \"Total Income\",\n",
    "       x = \"Company\",\n",
    "       y = \"Total Income\",\n",
    "       fill = \"agegroup\") +\n",
    "  geom_text(data = company_age_large, aes(label = total_profit_income), \n",
    "              position = position_stack(vjust = 0.5), \n",
    "              size = 2)\n",
    "\n",
    "ggplot(company_city, aes(x = City, y = profit_per_KM, fill = Company)) +\n",
    "  geom_bar(stat = \"identity\", position = \"dodge\", alpha = 0.7) +\n",
    "  labs(title = \"Profit per KM by City\",\n",
    "       x = \"City\",\n",
    "       y = \"Profit per KM\",\n",
    "       fill = \"Company\") +\n",
    "  theme(axis.text.x = element_text(angle = 90, vjust = 0.5, hjust=0.4))"
   ]
  },
  {
   "cell_type": "code",
   "execution_count": null,
   "metadata": {},
   "outputs": [],
   "source": [
    "#Calculate the number of orders in each city\n",
    "orders_city <- cab %>%\n",
    "  group_by(City, Company) %>%\n",
    "  summarise(No.Orders = n())\n",
    "\n",
    "ggplot(orders_city, aes(x = City, y = No.Orders, fill = Company)) +\n",
    "  geom_bar(stat = \"identity\", position = \"dodge\", alpha = 0.7) +\n",
    "  labs(title = \"No. of Orders per city\",\n",
    "       x = \"City\",\n",
    "       y = \"No. of orders\",\n",
    "       fill = \"Company\") +\n",
    "  theme(axis.text.x = element_text(angle = 90, vjust = 0.5, hjust=0.4))\n",
    "\n",
    "#Calculate the number of customers of each company in each city\n",
    "customers_city <- cab %>%\n",
    "  group_by(City, Company) %>%\n",
    "  summarise(No.customers = n_distinct(Customer.ID))\n",
    "customers_city <- merge(customers_city, city, by = \"City\")"
   ]
  },
  {
   "cell_type": "markdown",
   "metadata": {},
   "source": [
    "Assumptions:\n",
    "1. Outliers are shown in \"cab\" for missing specific order information, and the only information we can get is the payment method. Hence I choose to delete these outliers in the \"cab\" file.\n",
    "2. Due to different amount of orders in each city and each company, and different amount of KM, profit per KM is calculated and used to compare in each city and company.\n",
    "3. Due to huge gap of number of customers in each company, the percentage of age, income status etc. are calculated to show the structure of customers.\n",
    "4. Since the total number of customers belong to these two companies is not equal to the total users, I assume that there are other companies exist but not being collected into these files.\n",
    "5. In order to analyze conveniently, I combine \"transaction\",\"cus_id\" and \"city\" with \"cab\". Moreover, I create several data sets to calculate the total profit of each group, such as age group, income_status etc.,and the percentage of each group. "
   ]
  },
  {
   "cell_type": "markdown",
   "metadata": {},
   "source": [
    "Conclusion:\n",
    "1. Each company has a similar customer structure, with nearly the same proportion of age, gender and income structure.\n",
    "2. Yellow cab company started early, compared with pink cab company, it has more abundant customer resources and reserves, and has a high influence in various cities. \n",
    "3. Yellow cab company has far more orders than pink cab company, and the profit per km is much higher in most of the cities. \n",
    "4. Yellow cab company has a strong presence in large cities and are more established than pink cab company.\n",
    "Therefore, for the above reasons, yellow cab company has less investment risk and greater profit potential. Consequentially, I suggest to invest yellow cab company.\n"
   ]
  },
  {
   "cell_type": "code",
   "execution_count": null,
   "metadata": {},
   "outputs": [],
   "source": []
  }
 ],
 "metadata": {
  "kernelspec": {
   "display_name": "R 4.3.2",
   "language": "R",
   "name": "ir4.0.3"
  },
  "language_info": {
   "codemirror_mode": "r",
   "file_extension": ".r",
   "mimetype": "text/x-r-source",
   "name": "R",
   "pygments_lexer": "r",
   "version": "4.3.2"
  }
 },
 "nbformat": 4,
 "nbformat_minor": 4
}
